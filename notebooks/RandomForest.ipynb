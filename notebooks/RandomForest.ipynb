{
 "cells": [
  {
   "cell_type": "code",
   "execution_count": 1,
   "metadata": {},
   "outputs": [],
   "source": [
    "import numpy as np\n",
    "import pandas as pd\n",
    "import seaborn as sns\n",
    "import matplotlib.pyplot as plt"
   ]
  },
  {
   "cell_type": "code",
   "execution_count": 2,
   "metadata": {},
   "outputs": [],
   "source": [
    "# Importa o csv\n",
    "data = pd.read_csv('../app/data/Breast_Cancer.csv')"
   ]
  },
  {
   "cell_type": "code",
   "execution_count": 3,
   "metadata": {},
   "outputs": [
    {
     "name": "stdout",
     "output_type": "stream",
     "text": [
      "Dados Nulos: \n",
      "Age                       0\n",
      "Race                      0\n",
      "Marital Status            0\n",
      "T Stage                   0\n",
      "N Stage                   0\n",
      "6th Stage                 0\n",
      "differentiate             0\n",
      "Grade                     0\n",
      "A Stage                   0\n",
      "Tumor Size                0\n",
      "Estrogen Status           0\n",
      "Progesterone Status       0\n",
      "Regional Node Examined    0\n",
      "Reginol Node Positive     0\n",
      "Survival Months           0\n",
      "Status                    0\n",
      "dtype: int64\n",
      "\n",
      "Quantidade de Linhas Duplicadas: \n",
      "1\n"
     ]
    }
   ],
   "source": [
    "# Verifica Valores Nulos e Linhas Duplicadas\n",
    "print(f'Dados Nulos: \\n{data.isnull().sum()}\\n')\n",
    "print(f'Quantidade de Linhas Duplicadas: \\n{data.duplicated().sum()}')"
   ]
  },
  {
   "cell_type": "code",
   "execution_count": 4,
   "metadata": {},
   "outputs": [],
   "source": [
    "# Dados duplicados detectados, criando uma cópia dos novos dados para remover os dados duplicados\n",
    "data1 = data.copy()"
   ]
  },
  {
   "cell_type": "code",
   "execution_count": 5,
   "metadata": {},
   "outputs": [],
   "source": [
    "# Removendo Dados duplicados\n",
    "data1 = data1.drop_duplicates(keep=False)"
   ]
  },
  {
   "cell_type": "code",
   "execution_count": 6,
   "metadata": {},
   "outputs": [
    {
     "name": "stdout",
     "output_type": "stream",
     "text": [
      "Data Original: \n",
      "(4024, 16)\n",
      "Data Cópia: \n",
      "(4022, 16)\n"
     ]
    }
   ],
   "source": [
    "# Vendo as diferenças entre o dataset original e a cópia\n",
    "print(f'Data Original: \\n{data.shape}')\n",
    "print(f'Data Cópia: \\n{data1.shape}')"
   ]
  },
  {
   "cell_type": "code",
   "execution_count": 8,
   "metadata": {},
   "outputs": [
    {
     "data": {
      "text/plain": [
       "0"
      ]
     },
     "execution_count": 8,
     "metadata": {},
     "output_type": "execute_result"
    }
   ],
   "source": [
    "# Verificando se ainda existem linhas duplicadas\n",
    "data1.duplicated().sum()"
   ]
  },
  {
   "cell_type": "code",
   "execution_count": 9,
   "metadata": {},
   "outputs": [
    {
     "name": "stdout",
     "output_type": "stream",
     "text": [
      "<class 'pandas.core.frame.DataFrame'>\n",
      "Int64Index: 4022 entries, 0 to 4023\n",
      "Data columns (total 16 columns):\n",
      " #   Column                  Non-Null Count  Dtype \n",
      "---  ------                  --------------  ----- \n",
      " 0   Age                     4022 non-null   int64 \n",
      " 1   Race                    4022 non-null   object\n",
      " 2   Marital Status          4022 non-null   object\n",
      " 3   T Stage                 4022 non-null   object\n",
      " 4   N Stage                 4022 non-null   object\n",
      " 5   6th Stage               4022 non-null   object\n",
      " 6   differentiate           4022 non-null   object\n",
      " 7   Grade                   4022 non-null   object\n",
      " 8   A Stage                 4022 non-null   object\n",
      " 9   Tumor Size              4022 non-null   int64 \n",
      " 10  Estrogen Status         4022 non-null   object\n",
      " 11  Progesterone Status     4022 non-null   object\n",
      " 12  Regional Node Examined  4022 non-null   int64 \n",
      " 13  Reginol Node Positive   4022 non-null   int64 \n",
      " 14  Survival Months         4022 non-null   int64 \n",
      " 15  Status                  4022 non-null   object\n",
      "dtypes: int64(5), object(11)\n",
      "memory usage: 534.2+ KB\n"
     ]
    }
   ],
   "source": [
    "# Tipo das variáveis\n",
    "data1.info()"
   ]
  }
 ],
 "metadata": {
  "kernelspec": {
   "display_name": "Python 3",
   "language": "python",
   "name": "python3"
  },
  "language_info": {
   "codemirror_mode": {
    "name": "ipython",
    "version": 3
   },
   "file_extension": ".py",
   "mimetype": "text/x-python",
   "name": "python",
   "nbconvert_exporter": "python",
   "pygments_lexer": "ipython3",
   "version": "3.10.9"
  },
  "orig_nbformat": 4,
  "vscode": {
   "interpreter": {
    "hash": "afb734500600fd355917ca529030176ea0ca205570884b88f2f6f7d791fd3fbe"
   }
  }
 },
 "nbformat": 4,
 "nbformat_minor": 2
}
