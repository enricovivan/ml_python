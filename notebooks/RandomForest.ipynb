{
 "cells": [
  {
   "cell_type": "code",
   "execution_count": 27,
   "metadata": {},
   "outputs": [],
   "source": [
    "import numpy as np\n",
    "import pandas as pd\n",
    "import seaborn as sns\n",
    "import matplotlib.pyplot as plt"
   ]
  },
  {
   "cell_type": "code",
   "execution_count": 28,
   "metadata": {},
   "outputs": [],
   "source": [
    "# Importa o csv\n",
    "data = pd.read_csv('../app/data/Breast_Cancer.csv')"
   ]
  },
  {
   "cell_type": "code",
   "execution_count": 29,
   "metadata": {},
   "outputs": [
    {
     "name": "stdout",
     "output_type": "stream",
     "text": [
      "Dados Nulos: \n",
      "Age                       0\n",
      "Race                      0\n",
      "Marital Status            0\n",
      "T Stage                   0\n",
      "N Stage                   0\n",
      "6th Stage                 0\n",
      "differentiate             0\n",
      "Grade                     0\n",
      "A Stage                   0\n",
      "Tumor Size                0\n",
      "Estrogen Status           0\n",
      "Progesterone Status       0\n",
      "Regional Node Examined    0\n",
      "Reginol Node Positive     0\n",
      "Survival Months           0\n",
      "Status                    0\n",
      "dtype: int64\n",
      "\n",
      "Quantidade de Linhas Duplicadas: \n",
      "1\n"
     ]
    }
   ],
   "source": [
    "# Verifica Valores Nulos e Linhas Duplicadas\n",
    "print(f'Dados Nulos: \\n{data.isnull().sum()}\\n')\n",
    "print(f'Quantidade de Linhas Duplicadas: \\n{data.duplicated().sum()}')"
   ]
  },
  {
   "cell_type": "code",
   "execution_count": 30,
   "metadata": {},
   "outputs": [],
   "source": [
    "# Dados duplicados detectados, criando uma cópia dos novos dados para remover os dados duplicados\n",
    "data1 = data.copy()"
   ]
  },
  {
   "cell_type": "code",
   "execution_count": 45,
   "metadata": {},
   "outputs": [],
   "source": [
    "# Removendo Dados duplicados\n",
    "data1 = data1.drop_duplicates(keep=False)"
   ]
  },
  {
   "cell_type": "code",
   "execution_count": null,
   "metadata": {},
   "outputs": [],
   "source": []
  },
  {
   "cell_type": "code",
   "execution_count": null,
   "metadata": {},
   "outputs": [],
   "source": []
  },
  {
   "cell_type": "code",
   "execution_count": 43,
   "metadata": {},
   "outputs": [
    {
     "name": "stdout",
     "output_type": "stream",
     "text": [
      "Data Original: \n",
      "(4024, 16)\n",
      "Data Cópia: \n",
      "(4022, 16)\n"
     ]
    }
   ],
   "source": [
    "# Vendo as diferenças entre o dataset original e a cópia\n",
    "print(f'Data Original: \\n{data.shape}')\n",
    "print(f'Data Cópia: \\n{data1.shape}')"
   ]
  },
  {
   "cell_type": "code",
   "execution_count": 44,
   "metadata": {},
   "outputs": [
    {
     "data": {
      "text/plain": [
       "0"
      ]
     },
     "execution_count": 44,
     "metadata": {},
     "output_type": "execute_result"
    }
   ],
   "source": [
    "# Verificando se ainda existem linhas duplicadas\n",
    "data1.duplicated().sum()"
   ]
  }
 ],
 "metadata": {
  "kernelspec": {
   "display_name": "Python 3",
   "language": "python",
   "name": "python3"
  },
  "language_info": {
   "codemirror_mode": {
    "name": "ipython",
    "version": 3
   },
   "file_extension": ".py",
   "mimetype": "text/x-python",
   "name": "python",
   "nbconvert_exporter": "python",
   "pygments_lexer": "ipython3",
   "version": "3.10.9"
  },
  "orig_nbformat": 4,
  "vscode": {
   "interpreter": {
    "hash": "afb734500600fd355917ca529030176ea0ca205570884b88f2f6f7d791fd3fbe"
   }
  }
 },
 "nbformat": 4,
 "nbformat_minor": 2
}
